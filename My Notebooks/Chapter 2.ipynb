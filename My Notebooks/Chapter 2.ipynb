{
 "cells": [
  {
   "cell_type": "markdown",
   "metadata": {},
   "source": [
    "### 2.4 Exercises"
   ]
  },
  {
   "cell_type": "markdown",
   "metadata": {},
   "source": [
    "#### Conceptual"
   ]
  },
  {
   "cell_type": "markdown",
   "metadata": {},
   "source": [
    "1. For each of parts (a) through (d), indicate whether we would generally\n",
    "expect the performance of a flexible statistical learning method to be\n",
    "better or worse than an inflexible method. Justify your answer.\n",
    "* (a) The sample size n is extremely large, and the number of predictors\n",
    "p is small.\n",
    "* (b) The number of predictors p is extremely large, and the number\n",
    "of observations n is small.  \n",
    "* (c) The relationship between the predictors and response is highly\n",
    "non-linear.  \n",
    "* (d) The variance of the error terms, i.e. σ2 = Var( ), is extremely\n",
    "high.  "
   ]
  },
  {
   "cell_type": "code",
   "execution_count": 3,
   "metadata": {},
   "outputs": [],
   "source": [
    "'''\n",
    "a. \n",
    "''';"
   ]
  },
  {
   "cell_type": "markdown",
   "metadata": {},
   "source": [
    "2. Explain whether each scenario is a classification or regression problem,\n",
    "and indicate whether we are most interested in inference or prediction.\n",
    "Finally, provide n and p.  \n",
    "* (a) We collect a set of data on the top 500 firms in the US. For each\n",
    "firm we record profit, number of employees, industry and the\n",
    "CEO salary. We are interested in understanding which factors\n",
    "affect CEO salary.  \n",
    "* (b) We are considering launching a new product and wish to know\n",
    "whether it will be a success or a failure. We collect data on 20\n",
    "similar products that were previously launched. For each product\n",
    "we have recorded whether it was a success or failure, price\n",
    "charged for the product, marketing budget, competition price,\n",
    "and ten other variables.  \n",
    "* (c) We are interested in predicting the % change in the USD/Euro \n",
    "exchange rate in relation to the weekly changes in the world\n",
    "stock markets. Hence we collect weekly data for all of 2012. For\n",
    "each week we record the % change in the USD/Euro, the %\n",
    "change in the US market, the % change in the British market,\n",
    "and the % change in the German market.\n"
   ]
  },
  {
   "cell_type": "markdown",
   "metadata": {},
   "source": [
    "3. We now revisit the bias-variance decomposition.\n",
    "* (a) Provide a sketch of typical (squared) bias, variance, training error,\n",
    "test error, and Bayes (or irreducible) error curves, on a single\n",
    "plot, as we go from less flexible statistical learning methods\n",
    "towards more flexible approaches. The x-axis should represent\n",
    "the amount of flexibility in the method, and the y-axis should\n",
    "represent the values for each curve. There should be five curves.\n",
    "Make sure to label each one.\n",
    "* (b) Explain why each of the five curves has the shape displayed in\n",
    "part (a)."
   ]
  },
  {
   "cell_type": "markdown",
   "metadata": {},
   "source": [
    "4. You will now think of some real-life applications for statistical learning.\n",
    "* (a) Describe three real-life applications in which classification might\n",
    "be useful. Describe the response, as well as the predictors. Is the\n",
    "goal of each application inference or prediction? Explain your\n",
    "answer.\n",
    "* (b) Describe three real-life applications in which regression might\n",
    "be useful. Describe the response, as well as the predictors. Is the\n",
    "goal of each application inference or prediction? Explain your\n",
    "answer.\n",
    "* (c) Describe three real-life applications in which cluster analysis\n",
    "might be useful."
   ]
  },
  {
   "cell_type": "markdown",
   "metadata": {},
   "source": [
    "5. What are the advantages and disadvantages of a very flexible (versus\n",
    "a less flexible) approach for regression or classification? Under what\n",
    "circumstances might a more flexible approach be preferred to a less\n",
    "flexible approach? When might a less flexible approach be preferred?"
   ]
  },
  {
   "cell_type": "markdown",
   "metadata": {},
   "source": [
    "6. Describe the differences between a parametric and a non-parametric\n",
    "statistical learning approach. What are the advantages of a parametric\n",
    "approach to regression or classification (as opposed to a nonparametric\n",
    "approach)? What are its disadvantages?\n"
   ]
  },
  {
   "cell_type": "markdown",
   "metadata": {},
   "source": [
    "7. The table below provides a training data set containing six observations,\n",
    "three predictors, and one qualitative response variable.\n",
    "Obs. X1 X2 X3 Y\n",
    "1 0 3 0 Red\n",
    "2 2 0 0 Red\n",
    "3 0 1 3 Red\n",
    "4 0 1 2 Green\n",
    "5 −1 0 1 Green\n",
    "6 1 1 1 Red\n",
    "Suppose we wish to use this data set to make a prediction for Y when\n",
    "X1 = X2 = X3 = 0 using K-nearest neighbors.\n",
    "* (a) Compute the Euclidean distance between each observation and\n",
    "the test point, X1 = X2 = X3 = 0.\n",
    "* (b) What is our prediction with K = 1? Why?\n",
    "* (c) What is our prediction with K = 3? Why?\n",
    "* (d) If the Bayes decision boundary in this problem is highly nonlinear,\n",
    "then would we expect the best value for K to be large or\n",
    "small? Why?"
   ]
  },
  {
   "cell_type": "markdown",
   "metadata": {},
   "source": [
    "#### Applied"
   ]
  },
  {
   "cell_type": "markdown",
   "metadata": {},
   "source": [
    "8. This exercise relates to the `College` data set, which can be found in\n",
    "the file `College.csv`. It contains a number of variables for 777 different\n",
    "universities and colleges in the US. The variables are\n",
    "• Private : Public/private indicator\n",
    "• Apps : Number of applications received\n",
    "• Accept : Number of applicants accepted\n",
    "• Enroll : Number of new students enrolled\n",
    "• Top10perc : New students from top 10% of high school class\n",
    "• Top25perc : New students from top 25% of high school class\n",
    "• F.Undergrad : Number of full-time undergraduates\n",
    "• P.Undergrad : Number of part-time undergraduates\n",
    "• Outstate : Out-of-state tuition\n",
    "• Room.Board : Room and board costs\n",
    "• Books : Estimated book costs\n",
    "• Personal : Estimated personal spending\n",
    "• PhD : Percent of faculty with Ph.D.’s\n",
    "• Terminal : Percent of faculty with terminal degree\n",
    "• S.F.Ratio : Student/faculty ratio\n",
    "• perc.alumni : Percent of alumni who donate\n",
    "• Expend : Instructional expenditure per student\n",
    "• Grad.Rate : Graduation rate\n",
    "Before reading the data into R, it can be viewed in Excel or a text\n",
    "editor.\n",
    "* (a) Use the `read.csv()` function to read the data into R. Call the\n",
    "loaded data `college`. Make sure that you have the directory set\n",
    "to the correct location for the data.\n",
    "* (b) Look at the data using the `fix()` function. You should notice\n",
    "that the first column is just the name of each university.We don’t\n",
    "really want `R` to treat this as data. However, it may be handy to\n",
    "have these names for later. Try the following commands:  \n",
    "&nbsp;&nbsp;&nbsp;&nbsp;&nbsp;&nbsp;`rownames (college )=college [,1]`  \n",
    "&nbsp;&nbsp;&nbsp;&nbsp;&nbsp;&nbsp;`fix (college )`  \n",
    "You should see that there is now a `row.names` column with the\n",
    "name of each university recorded. This means that R has given\n",
    "each row a name corresponding to the appropriate university. `R`\n",
    "will not try to perform calculations on the row names. However,\n",
    "we still need to eliminate the first column in the data where the\n",
    "names are stored. Try  \n",
    "&nbsp;&nbsp;&nbsp;&nbsp;&nbsp;&nbsp;`college =college [,-1]`  \n",
    "&nbsp;&nbsp;&nbsp;&nbsp;&nbsp;&nbsp;`fix (college )`\n",
    "Now you should see that the first data column is `Private`. Note\n",
    "that another column labeled `row.names` now appears before the\n",
    "`Private` column. However, this is not a data column but rather\n",
    "the name that `R` is giving to each row.\n",
    "* (c)\n",
    "  * i. Use the `summary()` function to produce a numerical summary\n",
    "of the variables in the data set.  \n",
    "  * ii. Use the `pairs()` function to produce a scatterplot matrix of\n",
    "the first ten columns or variables of the data. Recall that\n",
    "you can reference the first ten columns of a matrix `A` using\n",
    "`A[,1:10]`.  \n",
    "  * iii. Use the `plot()` function to produce side-by-side boxplots of\n",
    "`Outstate` versus `Private`.  \n",
    "  * iv. Create a new qualitative variable, called `Elite`, by binning\n",
    "the `Top10perc` variable. We are going to divide universities\n",
    "into two groups based on whether or not the proportion\n",
    "of students coming from the top 10% of their high school\n",
    "classes exceeds 50%.  \n",
    "&nbsp;&nbsp;&nbsp;&nbsp;&nbsp;&nbsp;`Elite =rep (\"No\",nrow(college ))`  \n",
    "&nbsp;&nbsp;&nbsp;&nbsp;&nbsp;&nbsp;`Elite [college$Top10perc >50]=\" Yes\"`  \n",
    "&nbsp;&nbsp;&nbsp;&nbsp;&nbsp;&nbsp;`Elite =as.factor (Elite)`  \n",
    "&nbsp;&nbsp;&nbsp;&nbsp;&nbsp;&nbsp;`college =data.frame(college ,Elite)`  \n",
    "Use the `summary()` function to see how many elite universities\n",
    "there are. Now use the `plot()` function to produce\n",
    "side-by-side boxplots of `Outstate` versus `Elite`.\n",
    "  * v. Use the `hist()` function to produce some histograms with\n",
    "differing numbers of bins for a few of the quantitative variables.\n",
    "You may find the command `par(mfrow=c(2,2))` useful:\n",
    "it will divide the print window into four regions so that four\n",
    "plots can be made simultaneously. Modifying the arguments\n",
    "to this function will divide the screen in other ways.  \n",
    "  * vi. Continue exploring the data, and provide a brief summary\n",
    "of what you discover."
   ]
  },
  {
   "cell_type": "markdown",
   "metadata": {},
   "source": [
    "9. This exercise involves the `Auto` data set studied in the lab. Make sure\n",
    "that the missing values have been removed from the data.  \n",
    "* (a) Which of the predictors are quantitative, and which are qualitative?\n",
    "* (b) What is the range of each quantitative predictor? You can answer\n",
    "this using the `range()` function.\n",
    "range()\n",
    "* (c) What is the mean and standard deviation of each quantitative\n",
    "predictor?\n",
    "* (d) Now remove the 10th through 85th observations. What is the\n",
    "range, mean, and standard deviation of each predictor in the\n",
    "subset of the data that remains?\n",
    "* (e) Using the full data set, investigate the predictors graphically,\n",
    "using scatterplots or other tools of your choice. Create some plots\n",
    "highlighting the relationships among the predictors. Comment\n",
    "on your findings.\n",
    "* (f) Suppose that we wish to predict gas mileage (`mpg)` on the basis\n",
    "of the other variables. Do your plots suggest that any of the\n",
    "other variables might be useful in predicting `mpg`? Justify your\n",
    "answer."
   ]
  },
  {
   "cell_type": "markdown",
   "metadata": {},
   "source": [
    "10. This exercise involves the `Boston` housing data set.  \n",
    "* (a) To begin, load in the `Boston` data set. The `Boston` data set is\n",
    "part of the `MASS` library in `R`.  \n",
    "&nbsp;&nbsp;&nbsp;&nbsp;&nbsp;&nbsp;`library (MASS)`  \n",
    "Now the data set is contained in the object Boston.  \n",
    "&nbsp;&nbsp;&nbsp;&nbsp;&nbsp;&nbsp;`Boston`  \n",
    "Read about the data set:  \n",
    "&nbsp;&nbsp;&nbsp;&nbsp;&nbsp;&nbsp;`?Boston`  \n",
    "How many rows are in this data set? How many columns? What\n",
    "do the rows and columns represent?\n",
    "* (b) Make some pairwise scatterplots of the predictors (columns) in\n",
    "this data set. Describe your findings.\n",
    "* (c) Are any of the predictors associated with per capita crime rate?\n",
    "If so, explain the relationship.\n",
    "* (d) Do any of the suburbs of Boston appear to have particularly\n",
    "high crime rates? Tax rates? Pupil-teacher ratios? Comment on\n",
    "the range of each predictor.\n",
    "* (e) How many of the suburbs in this data set bound the Charles\n",
    "river?\n",
    "* (f) What is the median pupil-teacher ratio among the towns in this\n",
    "data set?\n",
    "* (g) Which suburb of Boston has lowest median value of owneroccupied\n",
    "homes? What are the values of the other predictors\n",
    "for that suburb, and how do those values compare to the overall\n",
    "ranges for those predictors? Comment on your findings.\n",
    "* (h) In this data set, how many of the suburbs average more than\n",
    "seven rooms per dwelling? More than eight rooms per dwelling?\n",
    "Comment on the suburbs that average more than eight rooms\n",
    "per dwelling."
   ]
  },
  {
   "cell_type": "markdown",
   "metadata": {},
   "source": []
  }
 ],
 "metadata": {
  "interpreter": {
   "hash": "0dca2950e36c1bc1f19c976cb3a2c222c93fc4972c36e65f2b9a0fc841b162f6"
  },
  "kernelspec": {
   "display_name": "Python 3.9.7 64-bit ('islr': conda)",
   "language": "python",
   "name": "python3"
  },
  "language_info": {
   "codemirror_mode": {
    "name": "ipython",
    "version": 3
   },
   "file_extension": ".py",
   "mimetype": "text/x-python",
   "name": "python",
   "nbconvert_exporter": "python",
   "pygments_lexer": "ipython3",
   "version": "3.9.7"
  },
  "orig_nbformat": 4
 },
 "nbformat": 4,
 "nbformat_minor": 2
}
